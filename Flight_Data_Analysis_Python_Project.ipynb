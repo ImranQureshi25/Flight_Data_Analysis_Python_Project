{
 "cells": [
  {
   "cell_type": "markdown",
   "id": "91e899a5",
   "metadata": {},
   "source": [
    "## Flight Data Analysis Python Project\n",
    "Analysis and projections of various metrics (Airline, Destination, Arrival Time, etc) for flights in India using Python."
   ]
  },
  {
   "cell_type": "markdown",
   "id": "53b669d9",
   "metadata": {},
   "source": [
    "## Import Python Libraries\n",
    "Importing Pandas, MatPlotLib.Pylot, and Seaborn for effective data maniuplation and visualization."
   ]
  },
  {
   "cell_type": "code",
   "execution_count": null,
   "id": "0a55fff7",
   "metadata": {},
   "outputs": [],
   "source": [
    "import pandas as pd\n",
    "import matplotlib.pyplot as plt\n",
    "import seaborn as sns"
   ]
  },
  {
   "cell_type": "markdown",
   "id": "8d7d9c68",
   "metadata": {},
   "source": [
    "## Load Excel Data\n",
    "Importing Excel Spreadsheet for Flight Data in India"
   ]
  },
  {
   "cell_type": "code",
   "execution_count": null,
   "id": "5a2c491c",
   "metadata": {},
   "outputs": [],
   "source": [
    "df = pd.read_excel('airlines_flights_data.xlsx')"
   ]
  },
  {
   "cell_type": "markdown",
   "id": "0c0a4305",
   "metadata": {},
   "source": [
    "## Exploring Data Frames\n",
    "Displaying data to understand data formmating and structure"
   ]
  },
  {
   "cell_type": "code",
   "execution_count": null,
   "id": "69ac1dcc",
   "metadata": {},
   "outputs": [],
   "source": [
    "df.info()\n",
    "df.head(12)"
   ]
  },
  {
   "cell_type": "markdown",
   "id": "11c8dfc2",
   "metadata": {},
   "source": [
    "## Data Cleaning\n",
    "Checking for null or duplicate values"
   ]
  },
  {
   "cell_type": "code",
   "execution_count": null,
   "id": "1e8d5b15",
   "metadata": {},
   "outputs": [],
   "source": [
    "df[df.isnull().any(axis=1)] \n",
    "df[df.duplicated()] \n",
    "## No duplicates or null values found so no need to change original data frame."
   ]
  },
  {
   "cell_type": "markdown",
   "id": "db06dcae",
   "metadata": {},
   "source": [
    "## Removing Index Column\n",
    "Index Column not necessary"
   ]
  },
  {
   "cell_type": "code",
   "execution_count": null,
   "id": "b68a425b",
   "metadata": {},
   "outputs": [],
   "source": [
    "df_cleaned = df.drop(columns=['index'])\n",
    "df_cleaned.head(12)"
   ]
  },
  {
   "cell_type": "markdown",
   "id": "728b4ea9",
   "metadata": {},
   "source": [
    "## Summary Statistics\n",
    "Mean, Median, Quartiles, etc"
   ]
  },
  {
   "cell_type": "code",
   "execution_count": null,
   "id": "90b76d4f",
   "metadata": {},
   "outputs": [],
   "source": [
    "df_cleaned.describe()"
   ]
  },
  {
   "cell_type": "markdown",
   "id": "9540b76d",
   "metadata": {},
   "source": [
    "## Adding Price ($) Column\n",
    "Adding column that has price in USD."
   ]
  },
  {
   "cell_type": "code",
   "execution_count": null,
   "id": "a14a5fd6",
   "metadata": {},
   "outputs": [],
   "source": [
    "df_cleaned['price (USD $)'] = (df_cleaned['price (INR ₹)'] * .012).round(2)\n",
    "df_cleaned.head(12)"
   ]
  },
  {
   "cell_type": "markdown",
   "id": "f8e2e3b1",
   "metadata": {},
   "source": [
    "## Describe Function for Price Column in USD\n",
    "Checking average price of flights in USD for better understanding."
   ]
  },
  {
   "cell_type": "code",
   "execution_count": null,
   "id": "bd8cdb18",
   "metadata": {},
   "outputs": [],
   "source": [
    "df_cleaned['price (USD $)'].describe()"
   ]
  },
  {
   "cell_type": "markdown",
   "id": "064041f1",
   "metadata": {},
   "source": [
    "## Checking for outliers in Price Column\n",
    "Seems that price above 75% quartile are outliers, let's check their rows to see if they're accurate."
   ]
  },
  {
   "cell_type": "code",
   "execution_count": null,
   "id": "c8096a8e",
   "metadata": {},
   "outputs": [],
   "source": [
    "print(df_cleaned[df_cleaned['price (USD $)'] > df_cleaned['price (USD $)'].quantile(0.75)].to_string())\n",
    "## Looks like the reason for high prices is because the class is business class, which is often more expensive."
   ]
  },
  {
   "cell_type": "markdown",
   "id": "9944c4d9",
   "metadata": {},
   "source": [
    "## Accounting for Business Class Flights\n",
    "Looks like the reason is because this includes business and econcomy tickets, so let's keep that in mind when doing our analysis. \n"
   ]
  },
  {
   "cell_type": "code",
   "execution_count": null,
   "id": "2e9eea28",
   "metadata": {},
   "outputs": [],
   "source": [
    "## Checking for all classes in the dataset\n",
    "print(df_cleaned[df_cleaned['class'] == 'Economy'][['price (INR ₹)','price (USD $)']].describe().round(2))\n",
    "print(df_cleaned[df_cleaned['class'] == 'Business'][['price (INR ₹)','price (USD $)']].describe().round(2))"
   ]
  },
  {
   "cell_type": "markdown",
   "id": "a30559c4",
   "metadata": {},
   "source": [
    "## Still seeing outliers near the maximum values, let's take a closer look.\n",
    "Going to make a line plot to see at prices the outliers are occurring."
   ]
  },
  {
   "cell_type": "code",
   "execution_count": null,
   "id": "9a297e8c",
   "metadata": {},
   "outputs": [],
   "source": [
    "economy_prices  = df_cleaned[(df_cleaned['class'] == 'Economy') & (df_cleaned['price (USD $)'] > 78.87)]['price (USD $)'].sort_values().reset_index(drop=True)\n",
    "business_prices = df_cleaned[(df_cleaned['class'] == 'Business') & (df_cleaned['price (USD $)'] > 630.78)]['price (USD $)'].sort_values().reset_index(drop=True)\n",
    "\n",
    "plt.figure(figsize=(10,6))\n",
    "plt.plot(range(len(economy_prices)), economy_prices, label='Economy')\n",
    "plt.plot(range(len(business_prices)), business_prices, label='Business')\n",
    "\n",
    "plt.xlabel('Row Number')\n",
    "plt.ylabel('Price (USD $)')\n",
    "plt.title('Flight Prices by Class')\n",
    "plt.legend()\n",
    "plt.show()\n",
    "\n"
   ]
  },
  {
   "cell_type": "markdown",
   "id": "aa87d174",
   "metadata": {},
   "source": [
    "## Removing Outliers\n",
    "Based on chart above, economy tickets over 200 are clear outliers and business price tickets over 800 are clear outliers. Let's remove them from our data."
   ]
  },
  {
   "cell_type": "code",
   "execution_count": null,
   "id": "ff720ced",
   "metadata": {},
   "outputs": [],
   "source": [
    "df_cleaned = df_cleaned.drop(df_cleaned[(df_cleaned['class'] == 'Economy') & (df_cleaned['price (USD $)'] > 200)].index)\n",
    "df_cleaned = df_cleaned.drop(df_cleaned[(df_cleaned['class'] == 'Business') & (df_cleaned['price (USD $)'] > 800)].index)"
   ]
  }
 ],
 "metadata": {
  "kernelspec": {
   "display_name": "Python 3",
   "language": "python",
   "name": "python3"
  },
  "language_info": {
   "codemirror_mode": {
    "name": "ipython",
    "version": 3
   },
   "file_extension": ".py",
   "mimetype": "text/x-python",
   "name": "python",
   "nbconvert_exporter": "python",
   "pygments_lexer": "ipython3",
   "version": "3.13.5"
  }
 },
 "nbformat": 4,
 "nbformat_minor": 5
}
